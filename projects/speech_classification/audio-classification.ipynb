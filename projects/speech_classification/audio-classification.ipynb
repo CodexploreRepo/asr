{
 "cells": [
  {
   "cell_type": "markdown",
   "metadata": {},
   "source": [
    "# Audio Classification\n",
    "\n",
    "## Todo:\n",
    "- [Gunshot Audio Classification using Deep Learning Python and Keras](https://www.youtube.com/watch?v=DPXEh9iodYQ&list=LL&index=3&t=991s)"
   ]
  },
  {
   "cell_type": "code",
   "execution_count": 4,
   "metadata": {},
   "outputs": [],
   "source": [
    "import numpy as np\n",
    "\n",
    "import wandb\n",
    "from wandb.keras import WandbCallback\n",
    "\n",
    "from pathlib import Path"
   ]
  },
  {
   "cell_type": "markdown",
   "metadata": {},
   "source": [
    "## Data Loading & Preprocessing"
   ]
  },
  {
   "cell_type": "code",
   "execution_count": 6,
   "metadata": {},
   "outputs": [],
   "source": [
    "import librosa\n",
    "from tqdm import tqdm\n",
    "\n",
    "from keras.utils import to_categorical\n",
    "\n",
    "DATA_PATH = Path(\"__file__\").resolve().parents[2] / \"data\" / \"ml-class\" / \"cnn-audio\"\n",
    "INPUT_PATH = DATA_PATH / \"raw\"\n",
    "INTERMEDIATE_PATH = DATA_PATH / \"intermediate\""
   ]
  },
  {
   "cell_type": "code",
   "execution_count": 7,
   "metadata": {},
   "outputs": [],
   "source": [
    "def get_labels(data_path):\n",
    "    labels = [f.name for f in data_path.iterdir() if not f.name.startswith('.')]\n",
    "\n",
    "    label_indices = np.arange(0, len(labels))\n",
    "    return labels, label_indices, to_categorical(label_indices)\n"
   ]
  },
  {
   "cell_type": "code",
   "execution_count": 8,
   "metadata": {},
   "outputs": [],
   "source": [
    "def wav2mfcc(file_path, n_mfcc=20, max_len=11):\n",
    "    # convert file to wav2mfcc\n",
    "    # Mel-frequency cepstral coefficients\n",
    "    wave, _ = librosa.load(file_path, mono=True, sr=None)\n",
    "    \n",
    "    # convert wave to a array which is laid out in Fortran order in memory\n",
    "    wave = np.asfortranarray(wave[::3])\n",
    "\n",
    "    mfcc = librosa.feature.mfcc(y=wave, sr=16000, n_mfcc=n_mfcc)\n",
    "\n",
    "    # If maximum length exceeds mfcc lengths then pad the remaining ones\n",
    "    if (max_len > mfcc.shape[1]):\n",
    "        pad_width = max_len - mfcc.shape[1]\n",
    "        mfcc = np.pad(mfcc, pad_width=((0, 0), (0, pad_width)), mode='constant')\n",
    "\n",
    "    # Else cutoff the remaining parts\n",
    "    else:\n",
    "        mfcc = mfcc[:, :max_len]\n",
    "    \n",
    "    return mfcc"
   ]
  },
  {
   "cell_type": "code",
   "execution_count": 9,
   "metadata": {},
   "outputs": [],
   "source": [
    "def save_data_to_array(path=INPUT_PATH, max_len=11, n_mfcc=20):\n",
    "    labels, _, _ = get_labels(path)\n",
    "\n",
    "    for label in labels:\n",
    "        # Init mfcc vectors\n",
    "        mfcc_vectors = []\n",
    "        wavfiles = [wavfile.as_posix() for wavfile in (INPUT_PATH / label).glob(\"*.wav\")]\n",
    "\n",
    "        for wavfile in tqdm(wavfiles, f\"Saving vectors of label - '{label}'\\t\"):\n",
    "            mfcc = wav2mfcc(wavfile, max_len=max_len, n_mfcc=n_mfcc)\n",
    "            mfcc_vectors.append(mfcc)\n",
    "\n",
    "        np.save(INTERMEDIATE_PATH / (label + '.npy'), mfcc_vectors)\n",
    "    return labels"
   ]
  },
  {
   "cell_type": "code",
   "execution_count": 30,
   "metadata": {},
   "outputs": [
    {
     "data": {
      "text/html": [
       "Finishing last run (ID:w8kvb6b3) before initializing another..."
      ],
      "text/plain": [
       "<IPython.core.display.HTML object>"
      ]
     },
     "metadata": {},
     "output_type": "display_data"
    },
    {
     "data": {
      "text/html": [
       "Waiting for W&B process to finish... <strong style=\"color:green\">(success).</strong>"
      ],
      "text/plain": [
       "<IPython.core.display.HTML object>"
      ]
     },
     "metadata": {},
     "output_type": "display_data"
    },
    {
     "name": "stderr",
     "output_type": "stream",
     "text": [
      "wandb: WARNING Source type is set to 'repo' but some required information is missing from the environment. A job will not be created from this run. See https://docs.wandb.ai/guides/launch/create-job\n"
     ]
    },
    {
     "data": {
      "text/html": [
       " View run <strong style=\"color:#cdcd00\">helpful-durian-10</strong> at: <a href='https://wandb.ai/codexplore-ai/audio-classification/runs/w8kvb6b3' target=\"_blank\">https://wandb.ai/codexplore-ai/audio-classification/runs/w8kvb6b3</a><br/>Synced 5 W&B file(s), 0 media file(s), 0 artifact file(s) and 0 other file(s)"
      ],
      "text/plain": [
       "<IPython.core.display.HTML object>"
      ]
     },
     "metadata": {},
     "output_type": "display_data"
    },
    {
     "data": {
      "text/html": [
       "Find logs at: <code>./wandb/run-20231123_175040-w8kvb6b3/logs</code>"
      ],
      "text/plain": [
       "<IPython.core.display.HTML object>"
      ]
     },
     "metadata": {},
     "output_type": "display_data"
    },
    {
     "data": {
      "text/html": [
       "Successfully finished last run (ID:w8kvb6b3). Initializing new run:<br/>"
      ],
      "text/plain": [
       "<IPython.core.display.HTML object>"
      ]
     },
     "metadata": {},
     "output_type": "display_data"
    },
    {
     "data": {
      "text/html": [
       "wandb version 0.16.0 is available!  To upgrade, please run:\n",
       " $ pip install wandb --upgrade"
      ],
      "text/plain": [
       "<IPython.core.display.HTML object>"
      ]
     },
     "metadata": {},
     "output_type": "display_data"
    },
    {
     "data": {
      "text/html": [
       "Tracking run with wandb version 0.15.12"
      ],
      "text/plain": [
       "<IPython.core.display.HTML object>"
      ]
     },
     "metadata": {},
     "output_type": "display_data"
    },
    {
     "data": {
      "text/html": [
       "Run data is saved locally in <code>/Users/codexplore/Developer/repos/audio/projects/speech_classification/wandb/run-20231123_175128-v4kl2rea</code>"
      ],
      "text/plain": [
       "<IPython.core.display.HTML object>"
      ]
     },
     "metadata": {},
     "output_type": "display_data"
    },
    {
     "data": {
      "text/html": [
       "Syncing run <strong><a href='https://wandb.ai/codexplore-ai/audio-classification/runs/v4kl2rea' target=\"_blank\">solar-silence-11</a></strong> to <a href='https://wandb.ai/codexplore-ai/audio-classification' target=\"_blank\">Weights & Biases</a> (<a href='https://wandb.me/run' target=\"_blank\">docs</a>)<br/>"
      ],
      "text/plain": [
       "<IPython.core.display.HTML object>"
      ]
     },
     "metadata": {},
     "output_type": "display_data"
    },
    {
     "data": {
      "text/html": [
       " View project at <a href='https://wandb.ai/codexplore-ai/audio-classification' target=\"_blank\">https://wandb.ai/codexplore-ai/audio-classification</a>"
      ],
      "text/plain": [
       "<IPython.core.display.HTML object>"
      ]
     },
     "metadata": {},
     "output_type": "display_data"
    },
    {
     "data": {
      "text/html": [
       " View run at <a href='https://wandb.ai/codexplore-ai/audio-classification/runs/v4kl2rea' target=\"_blank\">https://wandb.ai/codexplore-ai/audio-classification/runs/v4kl2rea</a>"
      ],
      "text/plain": [
       "<IPython.core.display.HTML object>"
      ]
     },
     "metadata": {},
     "output_type": "display_data"
    }
   ],
   "source": [
    "wandb.init(\n",
    "    # set the wandb project where this run will be logged\n",
    "    project=\"audio-classification\",\n",
    ")\n",
    "config = wandb.config\n",
    "config.epochs = 50\n",
    "config.batch_size = 32\n",
    "\n",
    "config.max_len = 11\n",
    "config.buckets = 20"
   ]
  },
  {
   "cell_type": "code",
   "execution_count": 10,
   "metadata": {},
   "outputs": [
    {
     "name": "stderr",
     "output_type": "stream",
     "text": [
      "Saving vectors of label - 'cat'\t: 100%|██████████| 1733/1733 [00:06<00:00, 273.10it/s]\n",
      "Saving vectors of label - 'bed'\t: 100%|██████████| 1713/1713 [00:02<00:00, 630.48it/s]\n",
      "Saving vectors of label - 'happy'\t: 100%|██████████| 1742/1742 [00:02<00:00, 634.73it/s]\n"
     ]
    }
   ],
   "source": [
    "\n",
    "\n",
    "# Save data to array file first: bucket of frequency & time\n",
    "labels = save_data_to_array(max_len=config.max_len, n_mfcc=config.buckets)"
   ]
  },
  {
   "cell_type": "markdown",
   "metadata": {},
   "source": [
    "## Train Test Split"
   ]
  },
  {
   "cell_type": "code",
   "execution_count": 11,
   "metadata": {},
   "outputs": [],
   "source": [
    "from sklearn.model_selection import train_test_split\n",
    "\n",
    "def get_train_test(data_path: Path, labels, split_ratio=0.6, random_state=42):\n",
    "    # Get available labels\n",
    "\n",
    "    # Getting first arrays\n",
    "    X = np.load(data_path / (labels[0] + '.npy'))\n",
    "    y = np.zeros(X.shape[0]) # 0 -> cat \n",
    "\n",
    "    # Append all of the dataset into one single array, same goes for y\n",
    "    for i, label in enumerate(labels[1:]):\n",
    "        x = np.load(data_path / (label + '.npy'))\n",
    "        X = np.vstack((X, x))\n",
    "        y = np.append(y, np.full(x.shape[0], fill_value= (i + 1))) # 1 -> bed, 2 -> happy\n",
    "\n",
    "    assert X.shape[0] == len(y)\n",
    "\n",
    "    return train_test_split(X, y, test_size= (1 - split_ratio), random_state=random_state, shuffle=True)\n"
   ]
  },
  {
   "cell_type": "code",
   "execution_count": 12,
   "metadata": {},
   "outputs": [],
   "source": [
    "# # Loading train set and test set\n",
    "X_train, X_test, y_train, y_test = get_train_test(INTERMEDIATE_PATH, labels)"
   ]
  },
  {
   "cell_type": "code",
   "execution_count": 13,
   "metadata": {},
   "outputs": [
    {
     "data": {
      "text/plain": [
       "(3112, 20, 11)"
      ]
     },
     "execution_count": 13,
     "metadata": {},
     "output_type": "execute_result"
    }
   ],
   "source": [
    "X_train.shape"
   ]
  },
  {
   "cell_type": "code",
   "execution_count": 42,
   "metadata": {},
   "outputs": [],
   "source": [
    "channels = 1\n",
    "# reshape X to add channel as last (20, 11, 1)\n",
    "X_train = X_train.reshape(X_train.shape[0], config.buckets, config.max_len, channels)\n",
    "X_test = X_test.reshape(X_test.shape[0], config.buckets, config.max_len, channels)"
   ]
  },
  {
   "cell_type": "code",
   "execution_count": 14,
   "metadata": {},
   "outputs": [],
   "source": [
    "y_train_hot = to_categorical(y_train) # one-hot version\n",
    "y_test_hot = to_categorical(y_test)   # one-hot version"
   ]
  },
  {
   "cell_type": "markdown",
   "metadata": {},
   "source": [
    "## Model Training"
   ]
  },
  {
   "cell_type": "code",
   "execution_count": 46,
   "metadata": {},
   "outputs": [],
   "source": [
    "from keras.models import Sequential\n",
    "from keras.layers import Dense, Flatten, Conv2D, Dropout, MaxPool2D"
   ]
  },
  {
   "cell_type": "code",
   "execution_count": 28,
   "metadata": {},
   "outputs": [],
   "source": [
    "num_classes = 3\n"
   ]
  },
  {
   "cell_type": "markdown",
   "metadata": {},
   "source": [
    "### Basic ANN"
   ]
  },
  {
   "cell_type": "code",
   "execution_count": 43,
   "metadata": {},
   "outputs": [],
   "source": [
    "model = Sequential()\n",
    "model.add(Flatten(input_shape=(config.buckets, config.max_len, channels))) # flatten into signal vector\n",
    "model.add(Dense(32, activation='relu'))\n",
    "model.add(Dropout(0.2))\n",
    "model.add(Dense(num_classes, activation='softmax'))\n",
    "\n",
    "model.compile(loss=\"categorical_crossentropy\",\n",
    "                  optimizer=\"adam\",\n",
    "                  metrics=['accuracy'])"
   ]
  },
  {
   "cell_type": "markdown",
   "metadata": {},
   "source": [
    "### CNN"
   ]
  },
  {
   "cell_type": "code",
   "execution_count": 51,
   "metadata": {},
   "outputs": [],
   "source": [
    "model = Sequential()\n",
    "model.add(Conv2D(\n",
    "            32, (3,3), input_shape=(config.buckets, config.max_len, channels), \n",
    "            activation='relu'\n",
    "        ))\n",
    "model.add(MaxPool2D(pool_size=(2,2)))\n",
    "model.add(Dropout(0.25))\n",
    "model.add(Flatten()) # flatten into signal vector\n",
    "model.add(Dropout(0.25))\n",
    "model.add(Dense(num_classes, activation='softmax'))\n",
    "model.compile(loss=\"categorical_crossentropy\",\n",
    "                  optimizer=\"adam\",\n",
    "                  metrics=['accuracy'])"
   ]
  },
  {
   "cell_type": "code",
   "execution_count": 52,
   "metadata": {},
   "outputs": [
    {
     "data": {
      "text/html": [
       "wandb version 0.16.0 is available!  To upgrade, please run:\n",
       " $ pip install wandb --upgrade"
      ],
      "text/plain": [
       "<IPython.core.display.HTML object>"
      ]
     },
     "metadata": {},
     "output_type": "display_data"
    },
    {
     "data": {
      "text/html": [
       "Tracking run with wandb version 0.15.12"
      ],
      "text/plain": [
       "<IPython.core.display.HTML object>"
      ]
     },
     "metadata": {},
     "output_type": "display_data"
    },
    {
     "data": {
      "text/html": [
       "Run data is saved locally in <code>/Users/codexplore/Developer/repos/audio/projects/speech_classification/wandb/run-20231123_181119-a3g1i6za</code>"
      ],
      "text/plain": [
       "<IPython.core.display.HTML object>"
      ]
     },
     "metadata": {},
     "output_type": "display_data"
    },
    {
     "data": {
      "text/html": [
       "Syncing run <strong><a href='https://wandb.ai/codexplore-ai/audio-projects_speech_classification/runs/a3g1i6za' target=\"_blank\">cerulean-microwave-11</a></strong> to <a href='https://wandb.ai/codexplore-ai/audio-projects_speech_classification' target=\"_blank\">Weights & Biases</a> (<a href='https://wandb.me/run' target=\"_blank\">docs</a>)<br/>"
      ],
      "text/plain": [
       "<IPython.core.display.HTML object>"
      ]
     },
     "metadata": {},
     "output_type": "display_data"
    },
    {
     "data": {
      "text/html": [
       " View project at <a href='https://wandb.ai/codexplore-ai/audio-projects_speech_classification' target=\"_blank\">https://wandb.ai/codexplore-ai/audio-projects_speech_classification</a>"
      ],
      "text/plain": [
       "<IPython.core.display.HTML object>"
      ]
     },
     "metadata": {},
     "output_type": "display_data"
    },
    {
     "data": {
      "text/html": [
       " View run at <a href='https://wandb.ai/codexplore-ai/audio-projects_speech_classification/runs/a3g1i6za' target=\"_blank\">https://wandb.ai/codexplore-ai/audio-projects_speech_classification/runs/a3g1i6za</a>"
      ],
      "text/plain": [
       "<IPython.core.display.HTML object>"
      ]
     },
     "metadata": {},
     "output_type": "display_data"
    },
    {
     "name": "stdout",
     "output_type": "stream",
     "text": [
      "Epoch 1/50\n",
      "98/98 [==============================] - ETA: 0s - loss: 4.9234 - accuracy: 0.5611"
     ]
    },
    {
     "name": "stderr",
     "output_type": "stream",
     "text": [
      "/Users/codexplore/miniforge3/envs/audio/lib/python3.11/site-packages/keras/src/engine/training.py:3103: UserWarning: You are saving your model as an HDF5 file via `model.save()`. This file format is considered legacy. We recommend using instead the native Keras format, e.g. `model.save('my_model.keras')`.\n",
      "  saving_api.save_model(\n"
     ]
    },
    {
     "name": "stdout",
     "output_type": "stream",
     "text": [
      "INFO:tensorflow:Assets written to: /Users/codexplore/Developer/repos/audio/projects/speech_classification/wandb/run-20231123_181119-a3g1i6za/files/model-best/assets\n"
     ]
    },
    {
     "name": "stderr",
     "output_type": "stream",
     "text": [
      "INFO:tensorflow:Assets written to: /Users/codexplore/Developer/repos/audio/projects/speech_classification/wandb/run-20231123_181119-a3g1i6za/files/model-best/assets\n",
      "\u001b[34m\u001b[1mwandb\u001b[0m: Adding directory to artifact (/Users/codexplore/Developer/repos/audio/projects/speech_classification/wandb/run-20231123_181119-a3g1i6za/files/model-best)... Done. 0.0s\n"
     ]
    },
    {
     "name": "stdout",
     "output_type": "stream",
     "text": [
      "98/98 [==============================] - 2s 20ms/step - loss: 4.9234 - accuracy: 0.5611 - val_loss: 1.1158 - val_accuracy: 0.7457\n",
      "Epoch 2/50\n",
      "96/98 [============================>.] - ETA: 0s - loss: 1.5206 - accuracy: 0.7344"
     ]
    },
    {
     "name": "stderr",
     "output_type": "stream",
     "text": [
      "/Users/codexplore/miniforge3/envs/audio/lib/python3.11/site-packages/keras/src/engine/training.py:3103: UserWarning: You are saving your model as an HDF5 file via `model.save()`. This file format is considered legacy. We recommend using instead the native Keras format, e.g. `model.save('my_model.keras')`.\n",
      "  saving_api.save_model(\n"
     ]
    },
    {
     "name": "stdout",
     "output_type": "stream",
     "text": [
      "INFO:tensorflow:Assets written to: /Users/codexplore/Developer/repos/audio/projects/speech_classification/wandb/run-20231123_181119-a3g1i6za/files/model-best/assets\n"
     ]
    },
    {
     "name": "stderr",
     "output_type": "stream",
     "text": [
      "INFO:tensorflow:Assets written to: /Users/codexplore/Developer/repos/audio/projects/speech_classification/wandb/run-20231123_181119-a3g1i6za/files/model-best/assets\n",
      "\u001b[34m\u001b[1mwandb\u001b[0m: Adding directory to artifact (/Users/codexplore/Developer/repos/audio/projects/speech_classification/wandb/run-20231123_181119-a3g1i6za/files/model-best)... Done. 0.0s\n"
     ]
    },
    {
     "name": "stdout",
     "output_type": "stream",
     "text": [
      "98/98 [==============================] - 2s 17ms/step - loss: 1.5137 - accuracy: 0.7352 - val_loss: 0.7569 - val_accuracy: 0.8092\n",
      "Epoch 3/50\n",
      "97/98 [============================>.] - ETA: 0s - loss: 1.0598 - accuracy: 0.7793"
     ]
    },
    {
     "name": "stderr",
     "output_type": "stream",
     "text": [
      "/Users/codexplore/miniforge3/envs/audio/lib/python3.11/site-packages/keras/src/engine/training.py:3103: UserWarning: You are saving your model as an HDF5 file via `model.save()`. This file format is considered legacy. We recommend using instead the native Keras format, e.g. `model.save('my_model.keras')`.\n",
      "  saving_api.save_model(\n"
     ]
    },
    {
     "name": "stdout",
     "output_type": "stream",
     "text": [
      "INFO:tensorflow:Assets written to: /Users/codexplore/Developer/repos/audio/projects/speech_classification/wandb/run-20231123_181119-a3g1i6za/files/model-best/assets\n"
     ]
    },
    {
     "name": "stderr",
     "output_type": "stream",
     "text": [
      "INFO:tensorflow:Assets written to: /Users/codexplore/Developer/repos/audio/projects/speech_classification/wandb/run-20231123_181119-a3g1i6za/files/model-best/assets\n",
      "\u001b[34m\u001b[1mwandb\u001b[0m: Adding directory to artifact (/Users/codexplore/Developer/repos/audio/projects/speech_classification/wandb/run-20231123_181119-a3g1i6za/files/model-best)... Done. 0.0s\n"
     ]
    },
    {
     "name": "stdout",
     "output_type": "stream",
     "text": [
      "98/98 [==============================] - 2s 19ms/step - loss: 1.0572 - accuracy: 0.7799 - val_loss: 0.6457 - val_accuracy: 0.8112\n",
      "Epoch 4/50\n",
      "93/98 [===========================>..] - ETA: 0s - loss: 0.8098 - accuracy: 0.8034"
     ]
    },
    {
     "name": "stderr",
     "output_type": "stream",
     "text": [
      "/Users/codexplore/miniforge3/envs/audio/lib/python3.11/site-packages/keras/src/engine/training.py:3103: UserWarning: You are saving your model as an HDF5 file via `model.save()`. This file format is considered legacy. We recommend using instead the native Keras format, e.g. `model.save('my_model.keras')`.\n",
      "  saving_api.save_model(\n"
     ]
    },
    {
     "name": "stdout",
     "output_type": "stream",
     "text": [
      "INFO:tensorflow:Assets written to: /Users/codexplore/Developer/repos/audio/projects/speech_classification/wandb/run-20231123_181119-a3g1i6za/files/model-best/assets\n"
     ]
    },
    {
     "name": "stderr",
     "output_type": "stream",
     "text": [
      "INFO:tensorflow:Assets written to: /Users/codexplore/Developer/repos/audio/projects/speech_classification/wandb/run-20231123_181119-a3g1i6za/files/model-best/assets\n",
      "\u001b[34m\u001b[1mwandb\u001b[0m: Adding directory to artifact (/Users/codexplore/Developer/repos/audio/projects/speech_classification/wandb/run-20231123_181119-a3g1i6za/files/model-best)... Done. 0.0s\n"
     ]
    },
    {
     "name": "stdout",
     "output_type": "stream",
     "text": [
      "98/98 [==============================] - 2s 23ms/step - loss: 0.7943 - accuracy: 0.8056 - val_loss: 0.5551 - val_accuracy: 0.8324\n",
      "Epoch 5/50\n",
      "94/98 [===========================>..] - ETA: 0s - loss: 0.6373 - accuracy: 0.8268"
     ]
    },
    {
     "name": "stderr",
     "output_type": "stream",
     "text": [
      "/Users/codexplore/miniforge3/envs/audio/lib/python3.11/site-packages/keras/src/engine/training.py:3103: UserWarning: You are saving your model as an HDF5 file via `model.save()`. This file format is considered legacy. We recommend using instead the native Keras format, e.g. `model.save('my_model.keras')`.\n",
      "  saving_api.save_model(\n"
     ]
    },
    {
     "name": "stdout",
     "output_type": "stream",
     "text": [
      "INFO:tensorflow:Assets written to: /Users/codexplore/Developer/repos/audio/projects/speech_classification/wandb/run-20231123_181119-a3g1i6za/files/model-best/assets\n"
     ]
    },
    {
     "name": "stderr",
     "output_type": "stream",
     "text": [
      "INFO:tensorflow:Assets written to: /Users/codexplore/Developer/repos/audio/projects/speech_classification/wandb/run-20231123_181119-a3g1i6za/files/model-best/assets\n",
      "\u001b[34m\u001b[1mwandb\u001b[0m: Adding directory to artifact (/Users/codexplore/Developer/repos/audio/projects/speech_classification/wandb/run-20231123_181119-a3g1i6za/files/model-best)... Done. 0.0s\n"
     ]
    },
    {
     "name": "stdout",
     "output_type": "stream",
     "text": [
      "98/98 [==============================] - 2s 21ms/step - loss: 0.6352 - accuracy: 0.8274 - val_loss: 0.4323 - val_accuracy: 0.8574\n",
      "Epoch 6/50\n",
      "93/98 [===========================>..] - ETA: 0s - loss: 0.6051 - accuracy: 0.8343"
     ]
    },
    {
     "name": "stderr",
     "output_type": "stream",
     "text": [
      "/Users/codexplore/miniforge3/envs/audio/lib/python3.11/site-packages/keras/src/engine/training.py:3103: UserWarning: You are saving your model as an HDF5 file via `model.save()`. This file format is considered legacy. We recommend using instead the native Keras format, e.g. `model.save('my_model.keras')`.\n",
      "  saving_api.save_model(\n"
     ]
    },
    {
     "name": "stdout",
     "output_type": "stream",
     "text": [
      "INFO:tensorflow:Assets written to: /Users/codexplore/Developer/repos/audio/projects/speech_classification/wandb/run-20231123_181119-a3g1i6za/files/model-best/assets\n"
     ]
    },
    {
     "name": "stderr",
     "output_type": "stream",
     "text": [
      "INFO:tensorflow:Assets written to: /Users/codexplore/Developer/repos/audio/projects/speech_classification/wandb/run-20231123_181119-a3g1i6za/files/model-best/assets\n",
      "\u001b[34m\u001b[1mwandb\u001b[0m: Adding directory to artifact (/Users/codexplore/Developer/repos/audio/projects/speech_classification/wandb/run-20231123_181119-a3g1i6za/files/model-best)... Done. 0.0s\n"
     ]
    },
    {
     "name": "stdout",
     "output_type": "stream",
     "text": [
      "98/98 [==============================] - 2s 21ms/step - loss: 0.6066 - accuracy: 0.8348 - val_loss: 0.3966 - val_accuracy: 0.8685\n",
      "Epoch 7/50\n",
      "95/98 [============================>.] - ETA: 0s - loss: 0.4794 - accuracy: 0.8470"
     ]
    },
    {
     "name": "stderr",
     "output_type": "stream",
     "text": [
      "/Users/codexplore/miniforge3/envs/audio/lib/python3.11/site-packages/keras/src/engine/training.py:3103: UserWarning: You are saving your model as an HDF5 file via `model.save()`. This file format is considered legacy. We recommend using instead the native Keras format, e.g. `model.save('my_model.keras')`.\n",
      "  saving_api.save_model(\n"
     ]
    },
    {
     "name": "stdout",
     "output_type": "stream",
     "text": [
      "INFO:tensorflow:Assets written to: /Users/codexplore/Developer/repos/audio/projects/speech_classification/wandb/run-20231123_181119-a3g1i6za/files/model-best/assets\n"
     ]
    },
    {
     "name": "stderr",
     "output_type": "stream",
     "text": [
      "INFO:tensorflow:Assets written to: /Users/codexplore/Developer/repos/audio/projects/speech_classification/wandb/run-20231123_181119-a3g1i6za/files/model-best/assets\n",
      "\u001b[34m\u001b[1mwandb\u001b[0m: Adding directory to artifact (/Users/codexplore/Developer/repos/audio/projects/speech_classification/wandb/run-20231123_181119-a3g1i6za/files/model-best)... Done. 0.0s\n"
     ]
    },
    {
     "name": "stdout",
     "output_type": "stream",
     "text": [
      "98/98 [==============================] - 2s 21ms/step - loss: 0.4750 - accuracy: 0.8480 - val_loss: 0.3748 - val_accuracy: 0.8801\n",
      "Epoch 8/50\n",
      "94/98 [===========================>..] - ETA: 0s - loss: 0.4207 - accuracy: 0.8644"
     ]
    },
    {
     "name": "stderr",
     "output_type": "stream",
     "text": [
      "/Users/codexplore/miniforge3/envs/audio/lib/python3.11/site-packages/keras/src/engine/training.py:3103: UserWarning: You are saving your model as an HDF5 file via `model.save()`. This file format is considered legacy. We recommend using instead the native Keras format, e.g. `model.save('my_model.keras')`.\n",
      "  saving_api.save_model(\n"
     ]
    },
    {
     "name": "stdout",
     "output_type": "stream",
     "text": [
      "INFO:tensorflow:Assets written to: /Users/codexplore/Developer/repos/audio/projects/speech_classification/wandb/run-20231123_181119-a3g1i6za/files/model-best/assets\n"
     ]
    },
    {
     "name": "stderr",
     "output_type": "stream",
     "text": [
      "INFO:tensorflow:Assets written to: /Users/codexplore/Developer/repos/audio/projects/speech_classification/wandb/run-20231123_181119-a3g1i6za/files/model-best/assets\n",
      "\u001b[34m\u001b[1mwandb\u001b[0m: Adding directory to artifact (/Users/codexplore/Developer/repos/audio/projects/speech_classification/wandb/run-20231123_181119-a3g1i6za/files/model-best)... Done. 0.0s\n"
     ]
    },
    {
     "name": "stdout",
     "output_type": "stream",
     "text": [
      "98/98 [==============================] - 2s 18ms/step - loss: 0.4172 - accuracy: 0.8660 - val_loss: 0.3565 - val_accuracy: 0.8815\n",
      "Epoch 9/50\n",
      "98/98 [==============================] - 1s 12ms/step - loss: 0.3741 - accuracy: 0.8728 - val_loss: 0.4191 - val_accuracy: 0.8516\n",
      "Epoch 10/50\n",
      "98/98 [==============================] - 1s 12ms/step - loss: 0.3561 - accuracy: 0.8785 - val_loss: 0.4448 - val_accuracy: 0.8439\n",
      "Epoch 11/50\n",
      "98/98 [==============================] - 1s 14ms/step - loss: 0.3464 - accuracy: 0.8779 - val_loss: 0.3608 - val_accuracy: 0.8762\n",
      "Epoch 12/50\n",
      "95/98 [============================>.] - ETA: 0s - loss: 0.3410 - accuracy: 0.8727"
     ]
    },
    {
     "name": "stderr",
     "output_type": "stream",
     "text": [
      "/Users/codexplore/miniforge3/envs/audio/lib/python3.11/site-packages/keras/src/engine/training.py:3103: UserWarning: You are saving your model as an HDF5 file via `model.save()`. This file format is considered legacy. We recommend using instead the native Keras format, e.g. `model.save('my_model.keras')`.\n",
      "  saving_api.save_model(\n"
     ]
    },
    {
     "name": "stdout",
     "output_type": "stream",
     "text": [
      "INFO:tensorflow:Assets written to: /Users/codexplore/Developer/repos/audio/projects/speech_classification/wandb/run-20231123_181119-a3g1i6za/files/model-best/assets\n"
     ]
    },
    {
     "name": "stderr",
     "output_type": "stream",
     "text": [
      "INFO:tensorflow:Assets written to: /Users/codexplore/Developer/repos/audio/projects/speech_classification/wandb/run-20231123_181119-a3g1i6za/files/model-best/assets\n",
      "\u001b[34m\u001b[1mwandb\u001b[0m: Adding directory to artifact (/Users/codexplore/Developer/repos/audio/projects/speech_classification/wandb/run-20231123_181119-a3g1i6za/files/model-best)... Done. 0.0s\n"
     ]
    },
    {
     "name": "stdout",
     "output_type": "stream",
     "text": [
      "98/98 [==============================] - 2s 19ms/step - loss: 0.3424 - accuracy: 0.8721 - val_loss: 0.3280 - val_accuracy: 0.8849\n",
      "Epoch 13/50\n",
      "98/98 [==============================] - ETA: 0s - loss: 0.3105 - accuracy: 0.8821"
     ]
    },
    {
     "name": "stderr",
     "output_type": "stream",
     "text": [
      "/Users/codexplore/miniforge3/envs/audio/lib/python3.11/site-packages/keras/src/engine/training.py:3103: UserWarning: You are saving your model as an HDF5 file via `model.save()`. This file format is considered legacy. We recommend using instead the native Keras format, e.g. `model.save('my_model.keras')`.\n",
      "  saving_api.save_model(\n"
     ]
    },
    {
     "name": "stdout",
     "output_type": "stream",
     "text": [
      "INFO:tensorflow:Assets written to: /Users/codexplore/Developer/repos/audio/projects/speech_classification/wandb/run-20231123_181119-a3g1i6za/files/model-best/assets\n"
     ]
    },
    {
     "name": "stderr",
     "output_type": "stream",
     "text": [
      "INFO:tensorflow:Assets written to: /Users/codexplore/Developer/repos/audio/projects/speech_classification/wandb/run-20231123_181119-a3g1i6za/files/model-best/assets\n",
      "\u001b[34m\u001b[1mwandb\u001b[0m: Adding directory to artifact (/Users/codexplore/Developer/repos/audio/projects/speech_classification/wandb/run-20231123_181119-a3g1i6za/files/model-best)... Done. 0.0s\n"
     ]
    },
    {
     "name": "stdout",
     "output_type": "stream",
     "text": [
      "98/98 [==============================] - 2s 18ms/step - loss: 0.3105 - accuracy: 0.8821 - val_loss: 0.3256 - val_accuracy: 0.8839\n",
      "Epoch 14/50\n",
      "98/98 [==============================] - 1s 13ms/step - loss: 0.3138 - accuracy: 0.8911 - val_loss: 0.3404 - val_accuracy: 0.8762\n",
      "Epoch 15/50\n",
      "96/98 [============================>.] - ETA: 0s - loss: 0.2811 - accuracy: 0.8981"
     ]
    },
    {
     "name": "stderr",
     "output_type": "stream",
     "text": [
      "/Users/codexplore/miniforge3/envs/audio/lib/python3.11/site-packages/keras/src/engine/training.py:3103: UserWarning: You are saving your model as an HDF5 file via `model.save()`. This file format is considered legacy. We recommend using instead the native Keras format, e.g. `model.save('my_model.keras')`.\n",
      "  saving_api.save_model(\n"
     ]
    },
    {
     "name": "stdout",
     "output_type": "stream",
     "text": [
      "INFO:tensorflow:Assets written to: /Users/codexplore/Developer/repos/audio/projects/speech_classification/wandb/run-20231123_181119-a3g1i6za/files/model-best/assets\n"
     ]
    },
    {
     "name": "stderr",
     "output_type": "stream",
     "text": [
      "INFO:tensorflow:Assets written to: /Users/codexplore/Developer/repos/audio/projects/speech_classification/wandb/run-20231123_181119-a3g1i6za/files/model-best/assets\n",
      "\u001b[34m\u001b[1mwandb\u001b[0m: Adding directory to artifact (/Users/codexplore/Developer/repos/audio/projects/speech_classification/wandb/run-20231123_181119-a3g1i6za/files/model-best)... Done. 0.0s\n"
     ]
    },
    {
     "name": "stdout",
     "output_type": "stream",
     "text": [
      "98/98 [==============================] - 2s 19ms/step - loss: 0.2814 - accuracy: 0.8981 - val_loss: 0.3002 - val_accuracy: 0.8969\n",
      "Epoch 16/50\n",
      "93/98 [===========================>..] - ETA: 0s - loss: 0.2545 - accuracy: 0.9022INFO:tensorflow:Assets written to: /Users/codexplore/Developer/repos/audio/projects/speech_classification/wandb/run-20231123_181119-a3g1i6za/files/model-best/assets\n"
     ]
    },
    {
     "name": "stderr",
     "output_type": "stream",
     "text": [
      "/Users/codexplore/miniforge3/envs/audio/lib/python3.11/site-packages/keras/src/engine/training.py:3103: UserWarning: You are saving your model as an HDF5 file via `model.save()`. This file format is considered legacy. We recommend using instead the native Keras format, e.g. `model.save('my_model.keras')`.\n",
      "  saving_api.save_model(\n",
      "INFO:tensorflow:Assets written to: /Users/codexplore/Developer/repos/audio/projects/speech_classification/wandb/run-20231123_181119-a3g1i6za/files/model-best/assets\n",
      "\u001b[34m\u001b[1mwandb\u001b[0m: Adding directory to artifact (/Users/codexplore/Developer/repos/audio/projects/speech_classification/wandb/run-20231123_181119-a3g1i6za/files/model-best)... Done. 0.0s\n"
     ]
    },
    {
     "name": "stdout",
     "output_type": "stream",
     "text": [
      "98/98 [==============================] - 2s 18ms/step - loss: 0.2635 - accuracy: 0.8994 - val_loss: 0.2913 - val_accuracy: 0.8988\n",
      "Epoch 17/50\n",
      "97/98 [============================>.] - ETA: 0s - loss: 0.2815 - accuracy: 0.9001"
     ]
    },
    {
     "name": "stderr",
     "output_type": "stream",
     "text": [
      "/Users/codexplore/miniforge3/envs/audio/lib/python3.11/site-packages/keras/src/engine/training.py:3103: UserWarning: You are saving your model as an HDF5 file via `model.save()`. This file format is considered legacy. We recommend using instead the native Keras format, e.g. `model.save('my_model.keras')`.\n",
      "  saving_api.save_model(\n"
     ]
    },
    {
     "name": "stdout",
     "output_type": "stream",
     "text": [
      "INFO:tensorflow:Assets written to: /Users/codexplore/Developer/repos/audio/projects/speech_classification/wandb/run-20231123_181119-a3g1i6za/files/model-best/assets\n"
     ]
    },
    {
     "name": "stderr",
     "output_type": "stream",
     "text": [
      "INFO:tensorflow:Assets written to: /Users/codexplore/Developer/repos/audio/projects/speech_classification/wandb/run-20231123_181119-a3g1i6za/files/model-best/assets\n",
      "\u001b[34m\u001b[1mwandb\u001b[0m: Adding directory to artifact (/Users/codexplore/Developer/repos/audio/projects/speech_classification/wandb/run-20231123_181119-a3g1i6za/files/model-best)... Done. 0.0s\n"
     ]
    },
    {
     "name": "stdout",
     "output_type": "stream",
     "text": [
      "98/98 [==============================] - 2s 18ms/step - loss: 0.2809 - accuracy: 0.9004 - val_loss: 0.2793 - val_accuracy: 0.9061\n",
      "Epoch 18/50\n",
      "98/98 [==============================] - 1s 12ms/step - loss: 0.2683 - accuracy: 0.9055 - val_loss: 0.3107 - val_accuracy: 0.8935\n",
      "Epoch 19/50\n",
      "98/98 [==============================] - 1s 12ms/step - loss: 0.3125 - accuracy: 0.8898 - val_loss: 0.2898 - val_accuracy: 0.9027\n",
      "Epoch 20/50\n",
      "98/98 [==============================] - 1s 13ms/step - loss: 0.2347 - accuracy: 0.9113 - val_loss: 0.2938 - val_accuracy: 0.8950\n",
      "Epoch 21/50\n",
      "98/98 [==============================] - 1s 12ms/step - loss: 0.2504 - accuracy: 0.9113 - val_loss: 0.2817 - val_accuracy: 0.9046\n",
      "Epoch 22/50\n",
      "98/98 [==============================] - 1s 13ms/step - loss: 0.2303 - accuracy: 0.9120 - val_loss: 0.3427 - val_accuracy: 0.8796\n",
      "Epoch 23/50\n",
      "98/98 [==============================] - 1s 12ms/step - loss: 0.2187 - accuracy: 0.9168 - val_loss: 0.2832 - val_accuracy: 0.8993\n",
      "Epoch 24/50\n",
      "98/98 [==============================] - 1s 12ms/step - loss: 0.2323 - accuracy: 0.9126 - val_loss: 0.2973 - val_accuracy: 0.8998\n",
      "Epoch 25/50\n",
      "98/98 [==============================] - 1s 13ms/step - loss: 0.2387 - accuracy: 0.9065 - val_loss: 0.3020 - val_accuracy: 0.8940\n",
      "Epoch 26/50\n",
      "98/98 [==============================] - 1s 12ms/step - loss: 0.2065 - accuracy: 0.9283 - val_loss: 0.3997 - val_accuracy: 0.8622\n",
      "Epoch 27/50\n",
      "93/98 [===========================>..] - ETA: 0s - loss: 0.2045 - accuracy: 0.9190"
     ]
    },
    {
     "name": "stderr",
     "output_type": "stream",
     "text": [
      "/Users/codexplore/miniforge3/envs/audio/lib/python3.11/site-packages/keras/src/engine/training.py:3103: UserWarning: You are saving your model as an HDF5 file via `model.save()`. This file format is considered legacy. We recommend using instead the native Keras format, e.g. `model.save('my_model.keras')`.\n",
      "  saving_api.save_model(\n"
     ]
    },
    {
     "name": "stdout",
     "output_type": "stream",
     "text": [
      "INFO:tensorflow:Assets written to: /Users/codexplore/Developer/repos/audio/projects/speech_classification/wandb/run-20231123_181119-a3g1i6za/files/model-best/assets\n"
     ]
    },
    {
     "name": "stderr",
     "output_type": "stream",
     "text": [
      "INFO:tensorflow:Assets written to: /Users/codexplore/Developer/repos/audio/projects/speech_classification/wandb/run-20231123_181119-a3g1i6za/files/model-best/assets\n",
      "\u001b[34m\u001b[1mwandb\u001b[0m: Adding directory to artifact (/Users/codexplore/Developer/repos/audio/projects/speech_classification/wandb/run-20231123_181119-a3g1i6za/files/model-best)... Done. 0.0s\n"
     ]
    },
    {
     "name": "stdout",
     "output_type": "stream",
     "text": [
      "98/98 [==============================] - 2s 21ms/step - loss: 0.2054 - accuracy: 0.9184 - val_loss: 0.2740 - val_accuracy: 0.9051\n",
      "Epoch 28/50\n",
      "98/98 [==============================] - 1s 12ms/step - loss: 0.2179 - accuracy: 0.9200 - val_loss: 0.3752 - val_accuracy: 0.8767\n",
      "Epoch 29/50\n",
      "98/98 [==============================] - 1s 13ms/step - loss: 0.2052 - accuracy: 0.9274 - val_loss: 0.3044 - val_accuracy: 0.8960\n",
      "Epoch 30/50\n",
      "98/98 [==============================] - 1s 13ms/step - loss: 0.2053 - accuracy: 0.9309 - val_loss: 0.3024 - val_accuracy: 0.8993\n",
      "Epoch 31/50\n",
      "97/98 [============================>.] - ETA: 0s - loss: 0.2011 - accuracy: 0.9272"
     ]
    },
    {
     "name": "stderr",
     "output_type": "stream",
     "text": [
      "/Users/codexplore/miniforge3/envs/audio/lib/python3.11/site-packages/keras/src/engine/training.py:3103: UserWarning: You are saving your model as an HDF5 file via `model.save()`. This file format is considered legacy. We recommend using instead the native Keras format, e.g. `model.save('my_model.keras')`.\n",
      "  saving_api.save_model(\n"
     ]
    },
    {
     "name": "stdout",
     "output_type": "stream",
     "text": [
      "INFO:tensorflow:Assets written to: /Users/codexplore/Developer/repos/audio/projects/speech_classification/wandb/run-20231123_181119-a3g1i6za/files/model-best/assets\n"
     ]
    },
    {
     "name": "stderr",
     "output_type": "stream",
     "text": [
      "INFO:tensorflow:Assets written to: /Users/codexplore/Developer/repos/audio/projects/speech_classification/wandb/run-20231123_181119-a3g1i6za/files/model-best/assets\n",
      "\u001b[34m\u001b[1mwandb\u001b[0m: Adding directory to artifact (/Users/codexplore/Developer/repos/audio/projects/speech_classification/wandb/run-20231123_181119-a3g1i6za/files/model-best)... Done. 0.0s\n"
     ]
    },
    {
     "name": "stdout",
     "output_type": "stream",
     "text": [
      "98/98 [==============================] - 2s 20ms/step - loss: 0.2008 - accuracy: 0.9274 - val_loss: 0.2707 - val_accuracy: 0.9090\n",
      "Epoch 32/50\n",
      "95/98 [============================>.] - ETA: 0s - loss: 0.2071 - accuracy: 0.9253"
     ]
    },
    {
     "name": "stderr",
     "output_type": "stream",
     "text": [
      "/Users/codexplore/miniforge3/envs/audio/lib/python3.11/site-packages/keras/src/engine/training.py:3103: UserWarning: You are saving your model as an HDF5 file via `model.save()`. This file format is considered legacy. We recommend using instead the native Keras format, e.g. `model.save('my_model.keras')`.\n",
      "  saving_api.save_model(\n"
     ]
    },
    {
     "name": "stdout",
     "output_type": "stream",
     "text": [
      "INFO:tensorflow:Assets written to: /Users/codexplore/Developer/repos/audio/projects/speech_classification/wandb/run-20231123_181119-a3g1i6za/files/model-best/assets\n"
     ]
    },
    {
     "name": "stderr",
     "output_type": "stream",
     "text": [
      "INFO:tensorflow:Assets written to: /Users/codexplore/Developer/repos/audio/projects/speech_classification/wandb/run-20231123_181119-a3g1i6za/files/model-best/assets\n",
      "\u001b[34m\u001b[1mwandb\u001b[0m: Adding directory to artifact (/Users/codexplore/Developer/repos/audio/projects/speech_classification/wandb/run-20231123_181119-a3g1i6za/files/model-best)... Done. 0.0s\n"
     ]
    },
    {
     "name": "stdout",
     "output_type": "stream",
     "text": [
      "98/98 [==============================] - 2s 19ms/step - loss: 0.2066 - accuracy: 0.9248 - val_loss: 0.2704 - val_accuracy: 0.9085\n",
      "Epoch 33/50\n",
      "98/98 [==============================] - 1s 12ms/step - loss: 0.1717 - accuracy: 0.9386 - val_loss: 0.2868 - val_accuracy: 0.9013\n",
      "Epoch 34/50\n",
      "98/98 [==============================] - 1s 13ms/step - loss: 0.2228 - accuracy: 0.9190 - val_loss: 0.2863 - val_accuracy: 0.9027\n",
      "Epoch 35/50\n",
      "98/98 [==============================] - 1s 13ms/step - loss: 0.2178 - accuracy: 0.9267 - val_loss: 0.2994 - val_accuracy: 0.8988\n",
      "Epoch 36/50\n",
      "93/98 [===========================>..] - ETA: 0s - loss: 0.1978 - accuracy: 0.9254"
     ]
    },
    {
     "name": "stderr",
     "output_type": "stream",
     "text": [
      "/Users/codexplore/miniforge3/envs/audio/lib/python3.11/site-packages/keras/src/engine/training.py:3103: UserWarning: You are saving your model as an HDF5 file via `model.save()`. This file format is considered legacy. We recommend using instead the native Keras format, e.g. `model.save('my_model.keras')`.\n",
      "  saving_api.save_model(\n"
     ]
    },
    {
     "name": "stdout",
     "output_type": "stream",
     "text": [
      "INFO:tensorflow:Assets written to: /Users/codexplore/Developer/repos/audio/projects/speech_classification/wandb/run-20231123_181119-a3g1i6za/files/model-best/assets\n"
     ]
    },
    {
     "name": "stderr",
     "output_type": "stream",
     "text": [
      "INFO:tensorflow:Assets written to: /Users/codexplore/Developer/repos/audio/projects/speech_classification/wandb/run-20231123_181119-a3g1i6za/files/model-best/assets\n",
      "\u001b[34m\u001b[1mwandb\u001b[0m: Adding directory to artifact (/Users/codexplore/Developer/repos/audio/projects/speech_classification/wandb/run-20231123_181119-a3g1i6za/files/model-best)... Done. 0.0s\n"
     ]
    },
    {
     "name": "stdout",
     "output_type": "stream",
     "text": [
      "98/98 [==============================] - 2s 18ms/step - loss: 0.1947 - accuracy: 0.9264 - val_loss: 0.2663 - val_accuracy: 0.9118\n",
      "Epoch 37/50\n",
      "98/98 [==============================] - 1s 13ms/step - loss: 0.1721 - accuracy: 0.9341 - val_loss: 0.2880 - val_accuracy: 0.9080\n",
      "Epoch 38/50\n",
      "98/98 [==============================] - 1s 13ms/step - loss: 0.1827 - accuracy: 0.9319 - val_loss: 0.2950 - val_accuracy: 0.9051\n",
      "Epoch 39/50\n",
      "98/98 [==============================] - 1s 13ms/step - loss: 0.2362 - accuracy: 0.9193 - val_loss: 0.5765 - val_accuracy: 0.8145\n",
      "Epoch 40/50\n",
      "98/98 [==============================] - 1s 12ms/step - loss: 0.2200 - accuracy: 0.9193 - val_loss: 0.3424 - val_accuracy: 0.8858\n",
      "Epoch 41/50\n",
      "98/98 [==============================] - 1s 13ms/step - loss: 0.1774 - accuracy: 0.9351 - val_loss: 0.2709 - val_accuracy: 0.9070\n",
      "Epoch 42/50\n",
      "98/98 [==============================] - 1s 12ms/step - loss: 0.1692 - accuracy: 0.9361 - val_loss: 0.2681 - val_accuracy: 0.9152\n",
      "Epoch 43/50\n",
      "98/98 [==============================] - 1s 13ms/step - loss: 0.1614 - accuracy: 0.9451 - val_loss: 0.2748 - val_accuracy: 0.9046\n",
      "Epoch 44/50\n",
      "98/98 [==============================] - 1s 13ms/step - loss: 0.2151 - accuracy: 0.9271 - val_loss: 0.2707 - val_accuracy: 0.9147\n",
      "Epoch 45/50\n",
      "95/98 [============================>.] - ETA: 0s - loss: 0.1779 - accuracy: 0.9329"
     ]
    },
    {
     "name": "stderr",
     "output_type": "stream",
     "text": [
      "/Users/codexplore/miniforge3/envs/audio/lib/python3.11/site-packages/keras/src/engine/training.py:3103: UserWarning: You are saving your model as an HDF5 file via `model.save()`. This file format is considered legacy. We recommend using instead the native Keras format, e.g. `model.save('my_model.keras')`.\n",
      "  saving_api.save_model(\n"
     ]
    },
    {
     "name": "stdout",
     "output_type": "stream",
     "text": [
      "INFO:tensorflow:Assets written to: /Users/codexplore/Developer/repos/audio/projects/speech_classification/wandb/run-20231123_181119-a3g1i6za/files/model-best/assets\n"
     ]
    },
    {
     "name": "stderr",
     "output_type": "stream",
     "text": [
      "INFO:tensorflow:Assets written to: /Users/codexplore/Developer/repos/audio/projects/speech_classification/wandb/run-20231123_181119-a3g1i6za/files/model-best/assets\n",
      "\u001b[34m\u001b[1mwandb\u001b[0m: Adding directory to artifact (/Users/codexplore/Developer/repos/audio/projects/speech_classification/wandb/run-20231123_181119-a3g1i6za/files/model-best)... Done. 0.0s\n"
     ]
    },
    {
     "name": "stdout",
     "output_type": "stream",
     "text": [
      "98/98 [==============================] - 2s 19ms/step - loss: 0.1809 - accuracy: 0.9325 - val_loss: 0.2644 - val_accuracy: 0.9080\n",
      "Epoch 46/50\n",
      "98/98 [==============================] - 1s 12ms/step - loss: 0.2216 - accuracy: 0.9235 - val_loss: 0.2999 - val_accuracy: 0.8984\n",
      "Epoch 47/50\n",
      "98/98 [==============================] - 1s 13ms/step - loss: 0.1762 - accuracy: 0.9312 - val_loss: 0.2780 - val_accuracy: 0.9066\n",
      "Epoch 48/50\n",
      "98/98 [==============================] - 1s 12ms/step - loss: 0.1856 - accuracy: 0.9341 - val_loss: 0.2724 - val_accuracy: 0.9099\n",
      "Epoch 49/50\n",
      "98/98 [==============================] - 1s 13ms/step - loss: 0.1849 - accuracy: 0.9280 - val_loss: 0.3458 - val_accuracy: 0.8849\n",
      "Epoch 50/50\n",
      "98/98 [==============================] - 1s 13ms/step - loss: 0.1962 - accuracy: 0.9344 - val_loss: 0.2731 - val_accuracy: 0.9114\n"
     ]
    },
    {
     "data": {
      "text/html": [
       "Waiting for W&B process to finish... <strong style=\"color:green\">(success).</strong>"
      ],
      "text/plain": [
       "<IPython.core.display.HTML object>"
      ]
     },
     "metadata": {},
     "output_type": "display_data"
    },
    {
     "name": "stderr",
     "output_type": "stream",
     "text": [
      "wandb: WARNING Source type is set to 'repo' but some required information is missing from the environment. A job will not be created from this run. See https://docs.wandb.ai/guides/launch/create-job\n"
     ]
    },
    {
     "data": {
      "text/html": [
       "<style>\n",
       "    table.wandb td:nth-child(1) { padding: 0 10px; text-align: left ; width: auto;} td:nth-child(2) {text-align: left ; width: 100%}\n",
       "    .wandb-row { display: flex; flex-direction: row; flex-wrap: wrap; justify-content: flex-start; width: 100% }\n",
       "    .wandb-col { display: flex; flex-direction: column; flex-basis: 100%; flex: 1; padding: 10px; }\n",
       "    </style>\n",
       "<div class=\"wandb-row\"><div class=\"wandb-col\"><h3>Run history:</h3><br/><table class=\"wandb\"><tr><td>accuracy</td><td>▁▄▅▅▆▆▇▇▇▇▇▇▇▇▇▇▇▇▇▇████████████████████</td></tr><tr><td>epoch</td><td>▁▁▁▁▂▂▂▂▂▃▃▃▃▃▃▄▄▄▄▄▅▅▅▅▅▅▆▆▆▆▆▆▇▇▇▇▇███</td></tr><tr><td>loss</td><td>█▃▂▂▂▁▁▁▁▁▁▁▁▁▁▁▁▁▁▁▁▁▁▁▁▁▁▁▁▁▁▁▁▁▁▁▁▁▁▁</td></tr><tr><td>val_accuracy</td><td>▁▄▄▅▆▇▇▅▆▇▇▆▇█▇▇█▇▇▇▆█▆▇██▇▇███▄████▇███</td></tr><tr><td>val_loss</td><td>█▅▄▃▂▂▂▂▂▂▁▂▁▁▁▁▁▂▁▁▂▁▂▁▁▁▁▁▁▁▁▄▁▁▁▁▁▁▁▁</td></tr></table><br/></div><div class=\"wandb-col\"><h3>Run summary:</h3><br/><table class=\"wandb\"><tr><td>accuracy</td><td>0.93445</td></tr><tr><td>best_epoch</td><td>44</td></tr><tr><td>best_val_loss</td><td>0.26438</td></tr><tr><td>epoch</td><td>49</td></tr><tr><td>loss</td><td>0.19619</td></tr><tr><td>val_accuracy</td><td>0.91137</td></tr><tr><td>val_loss</td><td>0.27308</td></tr></table><br/></div></div>"
      ],
      "text/plain": [
       "<IPython.core.display.HTML object>"
      ]
     },
     "metadata": {},
     "output_type": "display_data"
    },
    {
     "data": {
      "text/html": [
       " View run <strong style=\"color:#cdcd00\">cerulean-microwave-11</strong> at: <a href='https://wandb.ai/codexplore-ai/audio-projects_speech_classification/runs/a3g1i6za' target=\"_blank\">https://wandb.ai/codexplore-ai/audio-projects_speech_classification/runs/a3g1i6za</a><br/>Synced 6 W&B file(s), 1 media file(s), 90 artifact file(s) and 1 other file(s)"
      ],
      "text/plain": [
       "<IPython.core.display.HTML object>"
      ]
     },
     "metadata": {},
     "output_type": "display_data"
    },
    {
     "data": {
      "text/html": [
       "Find logs at: <code>./wandb/run-20231123_181119-a3g1i6za/logs</code>"
      ],
      "text/plain": [
       "<IPython.core.display.HTML object>"
      ]
     },
     "metadata": {},
     "output_type": "display_data"
    }
   ],
   "source": [
    "wandb.init()\n",
    "model.fit(X_train, \n",
    "          y_train_hot, \n",
    "          epochs=config.epochs, \n",
    "          validation_data=(X_test, y_test_hot), \n",
    "          callbacks=[WandbCallback()])\n",
    "wandb.finish()"
   ]
  }
 ],
 "metadata": {
  "kernelspec": {
   "display_name": "tensorflow",
   "language": "python",
   "name": "python3"
  },
  "language_info": {
   "codemirror_mode": {
    "name": "ipython",
    "version": 3
   },
   "file_extension": ".py",
   "mimetype": "text/x-python",
   "name": "python",
   "nbconvert_exporter": "python",
   "pygments_lexer": "ipython3",
   "version": "3.11.6"
  }
 },
 "nbformat": 4,
 "nbformat_minor": 2
}
